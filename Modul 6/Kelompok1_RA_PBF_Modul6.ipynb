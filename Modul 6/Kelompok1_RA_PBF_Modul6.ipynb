{
  "nbformat": 4,
  "nbformat_minor": 0,
  "metadata": {
    "colab": {
      "provenance": []
    },
    "kernelspec": {
      "name": "python3",
      "display_name": "Python 3"
    },
    "language_info": {
      "name": "python"
    }
  },
  "cells": [
    {
      "cell_type": "code",
      "execution_count": 1,
      "metadata": {
        "colab": {
          "base_uri": "https://localhost:8080/"
        },
        "id": "rr49khePH0RC",
        "outputId": "12df82b0-76bc-491e-be60-3f5de0948bf2"
      },
      "outputs": [
        {
          "output_type": "stream",
          "name": "stdout",
          "text": [
            "Sudut pembiasan: 38.2226079814105\n"
          ]
        }
      ],
      "source": [
        "import math\n",
        "\n",
        "def hitung_sudut_pembiasan(sudut_potong, n1, n2):\n",
        "    theta_i = math.radians(sudut_potong)\n",
        "    theta_t = math.asin(n1 * math.sin(theta_i) / n2)\n",
        "    return math.degrees(theta_t)\n",
        "\n"
      ]
    }
  ]
}