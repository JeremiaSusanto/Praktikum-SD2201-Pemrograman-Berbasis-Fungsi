{
  "nbformat": 4,
  "nbformat_minor": 0,
  "metadata": {
    "colab": {
      "provenance": []
    },
    "kernelspec": {
      "name": "python3",
      "display_name": "Python 3"
    },
    "language_info": {
      "name": "python"
    }
  },
  "cells": [
    {
      "cell_type": "code",
      "execution_count": 4,
      "metadata": {
        "id": "8KbUxtdENWKm",
        "colab": {
          "base_uri": "https://localhost:8080/"
        },
        "outputId": "16425694-73d5-479f-8b1e-fc23ace1b9d6"
      },
      "outputs": [
        {
          "output_type": "stream",
          "name": "stdout",
          "text": [
            "Sudut pembiasan: 38.2226079814105\n"
          ]
        }
      ],
      "source": [
        "import math\n",
        "\n",
        "def hitung_sudut_pembiasan(sudut_potong, n1, n2):\n",
        "    theta_i = math.radians(sudut_potong)\n",
        "    theta_t = math.asin(n1 * math.sin(theta_i) / n2)\n",
        "    return math.degrees(theta_t)\n",
        "\n",
        "def decorator_hitung_sudut_pembiasan(func):\n",
        "    def wrapper(sudut_potong, n1, n2):\n",
        "        if n1 <= 0 or n2 <= 0:\n",
        "            return \"Indeks bias harus positif.\"\n",
        "        elif n1 == n2:\n",
        "            return \"Indeks bias harus berbeda.\"\n",
        "        else:\n",
        "            return func(sudut_potong, n1, n2)\n",
        "    return wrapper\n",
        "\n",
        "@decorator_hitung_sudut_pembiasan\n",
        "def hitung_dan_cetak_sudut_pembiasan(sudut_potong, n1, n2):\n",
        "    sudut_pembiasan = hitung_sudut_pembiasan(sudut_potong, n1, n2)\n",
        "    print(f\"Sudut pembiasan: {sudut_pembiasan}\")\n",
        "\n",
        "hitung_dan_cetak_sudut_pembiasan(45, 1.4, 1.6)"
      ]
    }
  ]
}