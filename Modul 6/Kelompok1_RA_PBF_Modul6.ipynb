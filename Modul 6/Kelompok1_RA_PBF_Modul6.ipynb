{
  "cells": [
    {
      "cell_type": "code",
      "execution_count": null,
      "metadata": {
        "colab": {
          "base_uri": "https://localhost:8080/"
        },
        "id": "rr49khePH0RC",
        "outputId": "12df82b0-76bc-491e-be60-3f5de0948bf2"
      },
      "outputs": [
        {
          "name": "stdout",
          "output_type": "stream",
          "text": [
            "Sudut pembiasan: 38.2226079814105\n"
          ]
        }
      ],
      "source": [
        "import math\n",
        "\n",
        "def hitung_sudut_pembiasan(sudut_potong, n1, n2):\n",
        "    theta_i = math.radians(sudut_potong)\n",
        "    theta_t = math.asin(n1 * math.sin(theta_i) / n2)\n",
        "    return math.degrees(theta_t)\n",
        "\n",
        "def decorator_hitung_sudut_pembiasan(func):\n",
        "    def wrapper(sudut_potong, n1, n2):\n",
        "        if n1 <= 0 or n2 <= 0:\n",
        "            return \"Indeks bias harus positif.\"\n",
        "        elif n1 == n2:\n",
        "            return \"Indeks bias harus berbeda.\"\n",
        "        else:\n",
        "            return func(sudut_potong, n1, n2)\n",
        "    return wrapper\n",
        "\n",
        "@decorator_hitung_sudut_pembiasan\n",
        "def hitung_dan_cetak_sudut_pembiasan(sudut_potong, n1, n2):\n",
        "    sudut_pembiasan = hitung_sudut_pembiasan(sudut_potong, n1, n2)\n"
      ]
    }
  ],
  "metadata": {
    "colab": {
      "provenance": []
    },
    "kernelspec": {
      "display_name": "Python 3",
      "name": "python3"
    },
    "language_info": {
      "name": "python"
    }
  },
  "nbformat": 4,
  "nbformat_minor": 0
}