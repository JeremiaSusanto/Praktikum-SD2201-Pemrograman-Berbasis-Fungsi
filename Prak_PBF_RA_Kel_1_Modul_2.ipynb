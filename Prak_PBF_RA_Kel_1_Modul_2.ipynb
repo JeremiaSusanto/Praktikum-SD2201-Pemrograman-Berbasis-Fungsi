{
  "cells": [
    {
      "cell_type": "markdown",
      "metadata": {
        "id": "view-in-github",
        "colab_type": "text"
      },
      "source": [
        "<a href=\"https://colab.research.google.com/github/ibraazzz/Praktikum-SD2201-Pemrograman-Berbasis-Fungsi/blob/master/Prak_PBF_RA_Kel_1_Modul_2.ipynb\" target=\"_parent\"><img src=\"https://colab.research.google.com/assets/colab-badge.svg\" alt=\"Open In Colab\"/></a>"
      ]
    },
    {
      "cell_type": "code",
      "execution_count": null,
      "metadata": {
        "colab": {
          "base_uri": "https://localhost:8080/"
        },
        "id": "eDm6eA5dHECM",
        "outputId": "8bf845f8-9fc5-4723-84a5-b45bb91ceb5c"
      },
      "outputs": [
        {
          "name": "stdout",
          "output_type": "stream",
          "text": [
            "Diketahui 15p + 27 = 6pq. Nilai 4pq - 18 ?\n",
            "1. 10p\n",
            "2. 12p\n",
            "3. 8p\n",
            "\n",
            "Diketahui 12 pekerja dapat menghasilkan gerabah sebanyak 20 buah dalam waktu 25 hari.\n",
            "Jika terdapat 30 pekerja yang menghasilkan 32 buah gerabah, maka berapa waktu yang diperlukan?\n",
            "1. 20 hari\n",
            "2. 18 hari\n",
            "3. 16 hari\n",
            "\n",
            "11.1% dari 1827 ?\n",
            "1. 201\n",
            "2. 203\n",
            "3. 164.59\n",
            "Masukkan angka yang valid.\n",
            "\n",
            "Deteriorasi adalah \n",
            "1. Kemajuan\n",
            "2. Bagian\n",
            "3. Kemerosotan\n",
            "\n",
            "Masukkan angka yang valid.\n",
            "\n",
            "Militan >< \n",
            "1. Agresif\n",
            "2. Tenang\n",
            "3. Ideologi\n",
            "\n",
            "Skor kamu adalah 20\n"
          ]
        }
      ],
      "source": [
        "from functools import reduce\n",
        "\n",
        "questions = [\n",
        "    (\"Diketahui 15p + 27 = 6pq. Nilai 4pq - 18 ?\", [\"10p\", \"12p\", \"8p\"], 1),\n",
        "    (\"\"\"Diketahui 12 pekerja dapat menghasilkan gerabah sebanyak 20 buah dalam waktu 25 hari.\n",
        "Jika terdapat 30 pekerja yang menghasilkan 32 buah gerabah, maka berapa waktu yang diperlukan?\"\"\", [\"20 hari\", \"18 hari\", \"16 hari\"], 3),\n",
        "    (\"11.1% dari 1827 ?\", [\"201\", \"203\", \"164.59\"], 2),\n",
        "    (\"Deteriorasi adalah \", [\"Kemajuan\", \"Bagian\", \"Kemerosotan\"], 3),\n",
        "    (\"Militan >< \", [\"Agresif\", \"Tenang\", \"Ideologi\"], 2),\n",
        "]\n",
        "\n",
        "def get_answer(question, choices):\n",
        "    print(question)\n",
        "    for i, choice in enumerate(choices, 1):\n",
        "        print(f\"{i}. {choice}\")\n",
        "    while True:\n",
        "        try:\n",
        "            jawaban = int(input(\"Masukkan jawaban: \")) - 1\n",
        "            print(\"\")\n",
        "            if jawaban < 0 or jawaban >= len(choices):\n",
        "                raise ValueError(\"Jawaban tidak valid.\")\n",
        "            return jawaban\n",
        "        except ValueError:\n",
        "            print(\"Masukkan angka yang valid.\")"
      ]
    }
  ],
  "metadata": {
    "colab": {
      "provenance": [],
      "include_colab_link": true
    },
    "kernelspec": {
      "display_name": "Python 3",
      "name": "python3"
    },
    "language_info": {
      "codemirror_mode": {
        "name": "ipython",
        "version": 3
      },
      "file_extension": ".py",
      "mimetype": "text/x-python",
      "name": "python",
      "nbconvert_exporter": "python",
      "pygments_lexer": "ipython3",
      "version": "3.11.4"
    }
  },
  "nbformat": 4,
  "nbformat_minor": 0
}