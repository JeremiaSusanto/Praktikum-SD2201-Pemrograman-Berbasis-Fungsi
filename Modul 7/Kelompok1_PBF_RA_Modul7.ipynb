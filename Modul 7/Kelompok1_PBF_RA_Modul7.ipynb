{
  "nbformat": 4,
  "nbformat_minor": 0,
  "metadata": {
    "colab": {
      "provenance": []
    },
    "kernelspec": {
      "name": "python3",
      "display_name": "Python 3"
    },
    "language_info": {
      "name": "python"
    }
  },
  "cells": [
    {
      "cell_type": "code",
      "source": [
        "import csv\n",
        "from functools import reduce\n",
        "import json\n",
        "\n",
        "# Fungsi untuk memvalidasi apakah string dapat dikonversi ke float\n",
        "def is_float(value):\n",
        "    try:\n",
        "        float(value)\n",
        "        return True\n",
        "    except ValueError:\n",
        "        return False\n",
        "\n",
        "# Baca data dari file CSV dan filter\n",
        "data_list = []\n",
        "with open('/content/911_Calls_for_Service_(Last_30_Days).csv', mode='r') as file:\n",
        "    reader = csv.DictReader(file)\n",
        "    data_list = [row for row in reader]\n",
        "\n",
        "# Filter dictionary yang memiliki kolom Zip dan Neighborhood serta kolom waktu yang valid\n",
        "filtered_data = list(filter(lambda x: x['zip_code'] and x['neighborhood'] and is_float(x['totalresponsetime']) and is_float(x['dispatchtime']) and is_float(x['totaltime']), data_list))\n"
      ],
      "metadata": {
        "id": "lBbE8r47rC6i"
      },
      "execution_count": null,
      "outputs": []
    }
  ]
}