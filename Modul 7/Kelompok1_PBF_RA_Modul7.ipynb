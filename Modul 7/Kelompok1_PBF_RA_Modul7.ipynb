{
  "nbformat": 4,
  "nbformat_minor": 0,
  "metadata": {
    "colab": {
      "provenance": []
    },
    "kernelspec": {
      "name": "python3",
      "display_name": "Python 3"
    },
    "language_info": {
      "name": "python"
    }
  },
  "cells": [
    {
      "cell_type": "code",
      "source": [
        "import csv\n",
        "from functools import reduce\n",
        "import json\n",
        "\n",
        "# Fungsi untuk memvalidasi apakah string dapat dikonversi ke float\n",
        "def is_float(value):\n",
        "    try:\n",
        "        float(value)\n",
        "        return True\n",
        "    except ValueError:\n",
        "        return False\n",
        "\n",
        "# Baca data dari file CSV dan filter\n",
        "data_list = []\n",
        "with open('/content/911_Calls_for_Service_(Last_30_Days).csv', mode='r') as file:\n",
        "    reader = csv.DictReader(file)\n",
        "    data_list = [row for row in reader]\n",
        "\n",
        "# Filter dictionary yang memiliki kolom Zip dan Neighborhood serta kolom waktu yang valid\n",
        "filtered_data = list(filter(lambda x: x['zip_code'] and x['neighborhood'] and is_float(x['totalresponsetime']) and is_float(x['dispatchtime']) and is_float(x['totaltime']), data_list))\n",
        "\n",
        "# Fungsi untuk menghitung rata-rata waktu\n",
        "def calculate_averages(data):\n",
        "    total_respons_time = reduce(lambda acc, x: acc + float(x['totalresponsetime']), data, 0)\n",
        "    total_dispatch_time = reduce(lambda acc, x: acc + float(x['dispatchtime']), data, 0)\n",
        "    total_time = reduce(lambda acc, x: acc + float(x['totaltime']), data, 0)\n",
        "    count = len(data)\n",
        "\n",
        "    return {\n",
        "        'average_response_time': total_respons_time / count if count else 0,\n",
        "        'average_dispatch_time': total_dispatch_time / count if count else 0,\n",
        "        'average_total_time': total_time / count if count else 0\n",
        "    }\n",
        "\n",
        "averages = calculate_averages(filtered_data)"
      ],
      "metadata": {
        "id": "lBbE8r47rC6i"
      },
      "execution_count": null,
      "outputs": []
    },
    {
      "cell_type": "code",
      "source": [
        "from itertools import groupby\n",
        "\n",
        "# Pisahkan data berdasarkan Neighborhood\n",
        "filtered_data.sort(key=lambda x: x['neighborhood'])\n",
        "neighborhood_groups = {k: list(v) for k, v in groupby(filtered_data, key=lambda x: x['neighborhood'])}\n",
        "\n",
        "# Fungsi untuk menghitung rata-rata waktu untuk setiap Neighborhood\n",
        "def calculate_neighborhood_averages(neighborhood_data):\n",
        "    total_respons_time = reduce(lambda acc, x: acc + float(x['totalresponsetime']), neighborhood_data, 0)\n",
        "    total_dispatch_time = reduce(lambda acc, x: acc + float(x['dispatchtime']), neighborhood_data, 0)\n",
        "    total_time = reduce(lambda acc, x: acc + float(x['totaltime']), neighborhood_data, 0)\n",
        "    count = len(neighborhood_data)\n",
        "\n",
        "    return {\n",
        "        'average_response_time': total_respons_time / count if count else 0,\n",
        "        'average_dispatch_time': total_dispatch_time / count if count else 0,\n",
        "        'average_total_time': total_time / count if count else 0\n",
        "    }\n",
        "\n"
      ],
      "metadata": {
        "id": "OTVjfRwX1472"
      },
      "execution_count": null,
      "outputs": []
    }
  ]
}