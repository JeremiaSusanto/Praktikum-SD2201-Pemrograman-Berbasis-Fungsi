{
  "nbformat": 4,
  "nbformat_minor": 0,
  "metadata": {
    "colab": {
      "provenance": []
    },
    "kernelspec": {
      "name": "python3",
      "display_name": "Python 3"
    },
    "language_info": {
      "name": "python"
    }
  },
  "cells": [
    {
      "cell_type": "code",
      "execution_count": null,
      "metadata": {
        "id": "O9DfdwmAT5JD"
      },
      "outputs": [],
      "source": [
        "def temperature_converter(converter):\n",
        "    \"\"\"Decorator untuk menambahkan informasi konversi ke dalam fungsi.\"\"\"\n",
        "    def wrapper(temperature):\n",
        "        converted = converter(temperature)\n",
        "        print(f\"Hasil konversi: {converted:.2f} °\")\n",
        "    return wrapper\n",
        "\n",
        "def celsius_to_fahrenheit(celsius):\n",
        "    \"\"\"Closure untuk konversi suhu dari Celsius ke Fahrenheit.\"\"\"\n",
        "    return (celsius * 9/5) + 32\n",
        "\n",
        "def fahrenheit_to_celsius(fahrenheit):\n",
        "    \"\"\"Closure untuk konversi suhu dari Fahrenheit ke Celsius.\"\"\"\n",
        "    return (fahrenheit - 32) * 5/9\n",
        "\n",
        "def reamur_to_celsius(reamur):\n",
        "    \"\"\"Closure untuk konversi suhu dari Reamur ke Celsius.\"\"\"\n",
        "    return reamur * 5/4\n",
        "\n",
        "def celsius_to_reamur(celsius):\n",
        "    \"\"\"Closure untuk konversi suhu dari Celsius ke Reamur.\"\"\"\n",
        "    return celsius * 4/5\n",
        "\n",
        "# Fungsi input untuk meminta input dari pengguna\n",
        "def input_conversion():\n",
        "    print(\"Pilihan konversi suhu:\")\n",
        "    print(\"1. Celsius ke Fahrenheit\")\n",
        "    print(\"2. Fahrenheit ke Celsius\")\n",
        "    print(\"3. Reamur ke Celsius\")\n",
        "    print(\"4. Celsius ke Reamur\")\n",
        "    choice = int(input(\"Masukkan pilihan Anda (1/2/3/4): \"))\n",
        "    return choice\n",
        "\n",
        "def input_temperature():\n",
        "    temperature = float(input(\"Masukkan suhu: \"))\n",
        "    return temperature\n",
        "\n",
        "# Main program\n",
        "def main():\n",
        "    choice = input_conversion()\n",
        "    temperature = input_temperature()\n",
        "\n",
        "    if choice == 1:\n",
        "        convert = temperature_converter(celsius_to_fahrenheit)\n",
        "        convert(temperature)\n"
      ]
    }
  ]
}