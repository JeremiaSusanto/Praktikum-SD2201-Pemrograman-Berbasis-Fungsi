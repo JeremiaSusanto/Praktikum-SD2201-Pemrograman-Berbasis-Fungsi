{
  "nbformat": 4,
  "nbformat_minor": 0,
  "metadata": {
    "colab": {
      "provenance": []
    },
    "kernelspec": {
      "name": "python3",
      "display_name": "Python 3"
    },
    "language_info": {
      "name": "python"
    }
  },
  "cells": [
    {
      "cell_type": "code",
      "execution_count": null,
      "metadata": {
        "colab": {
          "base_uri": "https://localhost:8080/"
        },
        "id": "y1q7QrrOzG4F",
        "outputId": "2fcad302-f0dd-4ae2-eabe-40d0d539b627"
      },
      "outputs": [
        {
          "output_type": "stream",
          "name": "stdout",
          "text": [
            "Pilihan konversi suhu:\n",
            "1. Celsius ke Fahrenheit\n",
            "2. Fahrenheit ke Celsius\n",
            "3. Reamur ke Celsius\n",
            "4. Celsius ke Reamur\n",
            "Masukkan pilihan Anda (1/2/3/4): 3\n",
            "Masukkan suhu: 30\n",
            "Hasil konversi: 37.50 °\n"
          ]
        }
      ],
      "source": [
        "def temperature_converter(converter):\n",
        "    \"\"\"Decorator untuk menambahkan informasi konversi ke dalam fungsi.\"\"\"\n",
        "    def wrapper(temperature):\n",
        "        converted = converter(temperature)\n",
        "        print(f\"Hasil konversi: {converted:.2f} °\")\n",
        "    return wrapper\n"
      ]
    }
  ]
}