{
  "nbformat": 4,
  "nbformat_minor": 0,
  "metadata": {
    "colab": {
      "provenance": []
    },
    "kernelspec": {
      "name": "python3",
      "display_name": "Python 3"
    },
    "language_info": {
      "name": "python"
    }
  },
  "cells": [
    {
      "cell_type": "code",
      "execution_count": null,
      "metadata": {
        "id": "O9DfdwmAT5JD"
      },
      "outputs": [],
      "source": [
        "def temperature_converter(converter):\n",
        "    \"\"\"Decorator untuk menambahkan informasi konversi ke dalam fungsi.\"\"\"\n",
        "    def wrapper(temperature):\n",
        "        converted = converter(temperature)\n",
        "        print(f\"Hasil konversi: {converted:.2f} °\")\n",
        "    return wrapper\n",
        "\n",
        "def celsius_to_fahrenheit(celsius):\n",
        "    \"\"\"Closure untuk konversi suhu dari Celsius ke Fahrenheit.\"\"\"\n",
        "    return (celsius * 9/5) + 32\n",
        "\n",
        "def fahrenheit_to_celsius(fahrenheit):\n",
        "    \"\"\"Closure untuk konversi suhu dari Fahrenheit ke Celsius.\"\"\"\n",
        "    return (fahrenheit - 32) * 5/9"
      ]
    }
  ]
}