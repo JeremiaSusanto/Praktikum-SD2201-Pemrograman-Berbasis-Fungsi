{
  "nbformat": 4,
  "nbformat_minor": 0,
  "metadata": {
    "colab": {
      "provenance": []
    },
    "kernelspec": {
      "name": "python3",
      "display_name": "Python 3"
    },
    "language_info": {
      "name": "python"
    }
  },
  "cells": [
    {
      "cell_type": "code",
      "source": [
        "from functools import reduce\n",
        "\n",
        "questions = [\n",
        "    (\"Diketahui 15p + 27 = 6pq. Nilai 4pq - 18 ?\", [\"10p\", \"12p\", \"8p\"], 'a'),\n",
        "    (\"\"\"Diketahui 12 pekerja dapat menghasilkan gerabah sebanyak 20 buah dalam waktu 25 hari. Jika terdapat 30 pekerja yang menghasilkan 32 buah gerabah, maka berapa waktu yang diperlukan?\"\"\", [\"20 hari\", \"18 hari\", \"16 hari\"], 'c'),\n",
        "    (\"11.1% dari 1827 ?\", [\"201\", \"203\", \"164.59\"], 'b'),\n",
        "    (\"Deteriorasi = ... \", [\"Kemajuan\", \"Bagian\", \"Kemerosotan\"], 'c'),\n",
        "    (\"Militan >< ... \", [\"Agresif\", \"Tenang\", \"Ideologi\"], 'b'),\n",
        "]\n",
        "\n",
        "def get_answer(question, choices):\n",
        "    print(question)\n",
        "    for i, choice in enumerate(choices, start=97):\n",
        "        print(f\"{chr(i)}. {choice}\")\n",
        "    while True:\n",
        "        try:\n",
        "            jawaban = input(\"Masukkan jawaban (a, b, c): \").lower()\n",
        "            print(\"\")\n",
        "            if jawaban not in ['a', 'b', 'c']:\n",
        "                raise ValueError(\"Jawaban tidak valid.\")\n",
        "            return ord(jawaban) - 97\n",
        "        except ValueError:\n",
        "            print(\"Masukkan opsi yang valid (a, b, c).\")"
      ],
      "metadata": {
        "id": "eDm6eA5dHECM"
      },
      "execution_count": 1,
      "outputs": []
    }
  ]
}