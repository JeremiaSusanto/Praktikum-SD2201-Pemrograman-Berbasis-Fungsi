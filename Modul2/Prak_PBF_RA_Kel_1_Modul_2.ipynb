{
  "nbformat": 4,
  "nbformat_minor": 0,
  "metadata": {
    "colab": {
      "provenance": []
    },
    "kernelspec": {
      "name": "python3",
      "display_name": "Python 3"
    },
    "language_info": {
      "name": "python"
    }
  },
  "cells": [
    {
      "cell_type": "code",
      "execution_count": 2,
      "metadata": {
        "colab": {
          "base_uri": "https://localhost:8080/"
        },
        "id": "yyyJKg56aotU",
        "outputId": "a2d35fb8-3b6c-46f7-b837-da15cc01b2be"
      },
      "outputs": [
        {
          "output_type": "stream",
          "name": "stdout",
          "text": [
            "1. Diketahui 15p + 27 = 6pq. Nilai 4pq - 18 ?\n",
            "a. 10p\n",
            "b. 12p\n",
            "c. 8p\n",
            "Masukkan jawaban (a, b, c): a\n",
            "\n",
            "2. Diketahui 12 pekerja dapat menghasilkan gerabah sebanyak 20 buah dalam waktu 25 hari. Jika terdapat 30 pekerja yang menghasilkan 32 buah gerabah, maka berapa waktu yang diperlukan?\n",
            "a. 20 hari\n",
            "b. 18 hari\n",
            "c. 16 hari\n",
            "Masukkan jawaban (a, b, c): b\n",
            "\n",
            "3. 11.1% dari 1827 ?\n",
            "a. 201\n",
            "b. 203\n",
            "c. 164.59\n",
            "Masukkan jawaban (a, b, c): b\n",
            "\n",
            "4. Deteriorasi adalah \n",
            "a. Kemajuan\n",
            "b. Bagian\n",
            "c. Kemerosotan\n",
            "Masukkan jawaban (a, b, c): c\n",
            "\n",
            "5. Militan >< \n",
            "a. Agresif\n",
            "b. Tenang\n",
            "c. Ideologi\n",
            "Masukkan jawaban (a, b, c): a\n",
            "\n",
            "Skor kamu adalah 60\n"
          ]
        }
      ],
      "source": [
        "from functools import reduce\n",
        "\n",
        "questions = [\n",
        "    (\"Diketahui 15p + 27 = 6pq. Nilai 4pq - 18 ?\", [\"10p\", \"12p\", \"8p\"], 'a'),\n",
        "    (\"\"\"Diketahui 12 pekerja dapat menghasilkan gerabah sebanyak 20 buah dalam waktu 25 hari. Jika terdapat 30 pekerja yang menghasilkan 32 buah gerabah, maka berapa waktu yang diperlukan?\"\"\", [\"20 hari\", \"18 hari\", \"16 hari\"], 'c'),\n",
        "    (\"11.1% dari 1827 ?\", [\"201\", \"203\", \"164.59\"], 'b'),\n",
        "    (\"Deteriorasi adalah \", [\"Kemajuan\", \"Bagian\", \"Kemerosotan\"], 'c'),\n",
        "    (\"Militan >< \", [\"Agresif\", \"Tenang\", \"Ideologi\"], 'b'),\n",
        "]\n",
        "\n",
        "def get_answer(question, choices):\n",
        "    print(question)\n",
        "    for i, choice in enumerate(choices, start=97):\n",
        "        print(f\"{chr(i)}. {choice}\")\n",
        "    while True:\n",
        "        try:\n",
        "            jawaban = input(\"Masukkan jawaban (a, b, c): \").lower()\n",
        "            print(\"\")\n",
        "            if jawaban not in ['a', 'b', 'c']:\n",
        "                raise ValueError(\"Jawaban tidak valid.\")\n",
        "            return ord(jawaban) - 97\n",
        "        except ValueError:\n",
        "            print(\"Masukkan opsi yang valid (a, b, c).\")\n",
        "\n",
        "def calculate_score(score, question, question_number):\n",
        "    question_text, choices, correct_answer = question\n",
        "    numbered_question_text = f\"{question_number}. {question_text}\"\n",
        "    correct_index = ord(correct_answer) - 97\n",
        "    return score + 20 if get_answer(numbered_question_text, choices) == correct_index else score"
      ]
    }
  ]
}