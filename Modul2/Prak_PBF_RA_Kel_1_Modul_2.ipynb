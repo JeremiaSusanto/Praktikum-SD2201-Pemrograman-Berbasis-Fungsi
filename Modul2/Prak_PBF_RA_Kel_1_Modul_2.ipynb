{
  "nbformat": 4,
  "nbformat_minor": 0,
  "metadata": {
    "colab": {
      "provenance": []
    },
    "kernelspec": {
      "name": "python3",
      "display_name": "Python 3"
    },
    "language_info": {
      "name": "python"
    }
  },
  "cells": [
    {
      "cell_type": "code",
      "source": [
        "from functools import reduce\n",
        "\n",
        "questions = [\n",
        "    (\"Diketahui 15p + 27 = 6pq. Nilai 4pq - 18 ?\", [\"10p\", \"12p\", \"8p\"], 1),\n",
        "    (\"\"\"Diketahui 12 pekerja dapat menghasilkan gerabah sebanyak 20 buah dalam waktu 25 hari.\n",
        "Jika terdapat 30 pekerja yang menghasilkan 32 buah gerabah, maka berapa waktu yang diperlukan?\"\"\", [\"20 hari\", \"18 hari\", \"16 hari\"], 3),\n",
        "    (\"11.1% dari 1827 ?\", [\"201\", \"203\", \"164.59\"], 2),\n",
        "    (\"Deteriorasi = ... \", [\"Kemajuan\", \"Bagian\", \"Kemerosotan\"], 3),\n",
        "    (\"Militan >< ... \", [\"Agresif\", \"Tenang\", \"Ideologi\"], 2),\n",
        "]\n",
        "\n",
        "def get_answer(question, choices):\n",
        "    print(question)\n",
        "    for i, choice in enumerate(choices, 1):\n",
        "        print(f\"{i}. {choice}\")\n",
        "    while True:\n",
        "        try:\n",
        "            jawaban = int(input(\"Masukkan jawaban: \")) - 1\n",
        "            print(\"\")\n",
        "            if jawaban < 0 or jawaban >= len(choices):\n",
        "                raise ValueError(\"Jawaban tidak valid.\")\n",
        "            return jawaban\n",
        "        except ValueError:\n",
        "            print(\"Masukkan angka yang valid.\")\n"
      ],
      "metadata": {
        "colab": {
          "base_uri": "https://localhost:8080/"
        },
        "id": "eDm6eA5dHECM",
        "outputId": "3d9c0548-57d3-4b5a-bbf9-0b7aa7a7d433"
      },
      "execution_count": null,
      "outputs": [
        {
          "output_type": "stream",
          "name": "stdout",
          "text": [
            "Diketahui 15p + 27 = 6pq. Nilai 4pq - 18 ?\n",
            "1. 10p\n",
            "2. 12p\n",
            "3. 8p\n"
          ]
        }
      ]
    }
  ]
}
