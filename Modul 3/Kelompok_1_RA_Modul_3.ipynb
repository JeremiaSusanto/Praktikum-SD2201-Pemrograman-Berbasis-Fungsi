{
  "nbformat": 4,
  "nbformat_minor": 0,
  "metadata": {
    "colab": {
      "provenance": []
    },
    "kernelspec": {
      "name": "python3",
      "display_name": "Python 3"
    },
    "language_info": {
      "name": "python"
    }
  },
  "cells": [
    {
      "cell_type": "code",
      "execution_count": null,
      "metadata": {
        "id": "8Qv4suGTcm6z"
      },
      "outputs": [],
      "source": [
        "import math\n",
        "import random\n",
        "\n",
        "def poisson_distribution_generator(lambd):\n",
        "    L = math.exp(-lambd)\n",
        "    while True:\n",
        "        k = 0\n",
        "        p = 1\n",
        "        while p > L:\n",
        "            k += 1\n",
        "            p *= random.random()\n",
        "        yield k - 1\n"
      ]
    }
  ]
}