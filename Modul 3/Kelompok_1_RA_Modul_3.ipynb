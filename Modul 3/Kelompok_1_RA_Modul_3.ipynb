{
  "nbformat": 4,
  "nbformat_minor": 0,
  "metadata": {
    "colab": {
      "provenance": []
    },
    "kernelspec": {
      "name": "python3",
      "display_name": "Python 3"
    },
    "language_info": {
      "name": "python"
    }
  },
  "cells": [
    {
      "cell_type": "code",
      "execution_count": 1,
      "metadata": {
        "colab": {
          "base_uri": "https://localhost:8080/"
        },
        "id": "8Qv4suGTcm6z",
        "outputId": "e4e284a9-920a-4aea-9d85-6ec5a7b10ad4"
      },
      "outputs": [
        {
          "output_type": "stream",
          "name": "stdout",
          "text": [
            "2\n",
            "1\n",
            "4\n",
            "8\n",
            "5\n",
            "7\n",
            "4\n",
            "4\n",
            "3\n",
            "5\n"
          ]
        }
      ],
      "source": [
        "import math\n",
        "import random\n",
        "\n",
        "def poisson_distribution_generator(lambd):\n",
        "    L = math.exp(-lambd)\n",
        "    while True:\n",
        "        k = 0\n",
        "        p = 1\n",
        "        while p > L:\n",
        "            k += 1\n",
        "            p *= random.random()\n",
        "        yield k - 1\n",
        "\n",
        "lambda_val = 4\n",
        "poisson_gen = poisson_distribution_generator(lambda_val)\n",
        "\n",
        "for _ in range(10):\n",
        "  print(next(poisson_gen))"
      ]
    }
  ]
}