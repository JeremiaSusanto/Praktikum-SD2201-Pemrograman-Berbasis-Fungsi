{
  "nbformat": 4,
  "nbformat_minor": 0,
  "metadata": {
    "colab": {
      "provenance": []
    },
    "kernelspec": {
      "name": "python3",
      "display_name": "Python 3"
    },
    "language_info": {
      "name": "python"
    }
  },
  "cells": [
    {
      "cell_type": "code",
      "execution_count": null,
      "metadata": {
        "colab": {
          "base_uri": "https://localhost:8080/"
        },
        "id": "8Qv4suGTcm6z",
        "outputId": "ce0a319d-e9a5-4fd7-f32e-4864c162e7cd"
      },
      "outputs": [
        {
          "output_type": "stream",
          "name": "stdout",
          "text": [
            "5\n",
            "3\n",
            "5\n",
            "5\n",
            "2\n",
            "3\n",
            "6\n",
            "6\n",
            "5\n",
            "3\n"
          ]
        }
      ],
      "source": [
        "import math\n",
        "import random\n",
        "\n",
        "def poisson_distribution_generator(lambd):\n",
        "    L = math.exp(-lambd)\n",
        "    while True:\n",
        "        k = 0\n",
        "        p = 1\n",
        "        while p > L:\n",
        "            k += 1\n",
        "            p *= random.random()\n",
        "        yield k - 1\n",
        "\n",
        "lambda_val = 4\n",
        "poisson_gen = poisson_distribution_generator(lambda_val)"
      ]
    }
  ]
}