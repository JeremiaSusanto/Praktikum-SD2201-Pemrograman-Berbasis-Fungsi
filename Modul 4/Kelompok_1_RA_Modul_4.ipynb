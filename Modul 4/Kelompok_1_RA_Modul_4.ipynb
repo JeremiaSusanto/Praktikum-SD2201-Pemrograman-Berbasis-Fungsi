{
  "nbformat": 4,
  "nbformat_minor": 0,
  "metadata": {
    "colab": {
      "provenance": []
    },
    "kernelspec": {
      "name": "python3",
      "display_name": "Python 3"
    },
    "language_info": {
      "name": "python"
    }
  },
  "cells": [
    {
      "cell_type": "code",
      "execution_count": null,
      "metadata": {
        "id": "XSZuWQX6GDkD"
      },
      "outputs": [],
      "source": [
        "import seaborn as sns\n",
        "import pandas as pd\n",
        "import matplotlib.pyplot as plt\n",
        "\n",
        "def correlation_matrix_generator():\n",
        "  def generate(data):\n",
        "\n",
        "    # Membuat dataframe dari data yang diberikan\n",
        "    df = pd.DataFrame(data)\n",
        "\n",
        "    # Menghitung matriks korelasi dari DataFrame\n",
        "    corr_matrix = df.corr()\n",
        "\n",
        "    # Menampilkan heatmap dari matriks korelasi dengan nilai-nilai di dalamnya\n",
        "    sns.heatmap(corr_matrix, annot=True)\n",
        "    plt.show()\n",
        "\n",
        "  return generate\n",
        "\n",
        "# Contoh pemakaian dengan data dummy\n",
        "data = pd.read_csv('/content/data inflasi.csv')\n",
        "\n",
        "# Mendefinisikan fungsi generator matriks korelasi\n",
        "generate_corr_matrix = correlation_matrix_generator()\n",
        "# Menampilkan hasil matriks korelasi\n",
        "generate_corr_matrix(data)"
      ]
    }
  ]
}